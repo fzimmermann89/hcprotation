{
 "cells": [
  {
   "cell_type": "code",
   "execution_count": null,
   "id": "3200e615",
   "metadata": {},
   "outputs": [],
   "source": [
    "import periodictable\n",
    "from math import pi\n",
    "\n",
    "# sample\n",
    "density = periodictable.Au.density  # g/cm3\n",
    "molecularmass = periodictable.Au.mass  # u\n",
    "r = 15e-9  # m\n",
    "excitationratio = 1\n",
    "\n",
    "# detector\n",
    "Ndet = 1000  # px\n",
    "pixelsize = 100e-6  # m\n",
    "detz = 0.5  # m\n",
    "\n",
    "atomsperm3 = (density * 1e6) / molecularmass * 6e23\n",
    "Natoms = int(4 / 3 * pi * r ** 3 * atomsperm3 * excitationratio)\n",
    "Nphotons = (pixelsize * Ndet) ** 2 / (4 * pi * detz ** 2) * Natoms\n",
    "\n",
    "print(f'{Natoms:.1e} in focus => {Nphotons:.1e} photons on the detector')\n"
   ]
  },
  {
   "cell_type": "code",
   "execution_count": null,
   "id": "587cc4ea",
   "metadata": {},
   "outputs": [],
   "source": []
  }
 ],
 "metadata": {
  "kernelspec": {
   "display_name": "Python 3",
   "language": "python",
   "name": "python3"
  },
  "language_info": {
   "codemirror_mode": {
    "name": "ipython",
    "version": 3
   },
   "file_extension": ".py",
   "mimetype": "text/x-python",
   "name": "python",
   "nbconvert_exporter": "python",
   "pygments_lexer": "ipython3",
   "version": "3.8.5"
  }
 },
 "nbformat": 4,
 "nbformat_minor": 5
}
